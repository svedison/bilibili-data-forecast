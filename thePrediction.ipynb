{
 "cells": [
  {
   "cell_type": "code",
   "execution_count": 13,
   "id": "48238198-d10f-4c85-98d0-5b07ae9b70ce",
   "metadata": {},
   "outputs": [],
   "source": [
    "import sklearn \n",
    "import pandas as pd \n",
    "from sklearn.preprocessing import MinMaxScaler \n",
    "from sklearn.linear_model import LinearRegression \n",
    "from sklearn.ensemble import RandomForestRegressor \n",
    "from sklearn.model_selection import train_test_split \n",
    "import matplotlib.pyplot as plt \n",
    "import numpy as np "
   ]
  },
  {
   "cell_type": "code",
   "execution_count": 4,
   "id": "58dc460d-d798-4cdb-b243-046aa65a6854",
   "metadata": {},
   "outputs": [],
   "source": [
    "data = pd.read_csv(\"result.csv\") "
   ]
  },
  {
   "cell_type": "code",
   "execution_count": 5,
   "id": "dec97be3-e94a-4792-bc3d-cda6740c440a",
   "metadata": {},
   "outputs": [
    {
     "data": {
      "text/html": [
       "<div>\n",
       "<style scoped>\n",
       "    .dataframe tbody tr th:only-of-type {\n",
       "        vertical-align: middle;\n",
       "    }\n",
       "\n",
       "    .dataframe tbody tr th {\n",
       "        vertical-align: top;\n",
       "    }\n",
       "\n",
       "    .dataframe thead th {\n",
       "        text-align: right;\n",
       "    }\n",
       "</style>\n",
       "<table border=\"1\" class=\"dataframe\">\n",
       "  <thead>\n",
       "    <tr style=\"text-align: right;\">\n",
       "      <th></th>\n",
       "      <th>Date</th>\n",
       "      <th>favioriate</th>\n",
       "      <th>share</th>\n",
       "      <th>comment</th>\n",
       "      <th>save</th>\n",
       "      <th>Dan</th>\n",
       "      <th>Bofang</th>\n",
       "    </tr>\n",
       "  </thead>\n",
       "  <tbody>\n",
       "    <tr>\n",
       "      <th>0</th>\n",
       "      <td>202205.0</td>\n",
       "      <td>9840.0</td>\n",
       "      <td>6147.0</td>\n",
       "      <td>51568.0</td>\n",
       "      <td>27478.0</td>\n",
       "      <td>26664.0</td>\n",
       "      <td>3977392.0</td>\n",
       "    </tr>\n",
       "    <tr>\n",
       "      <th>1</th>\n",
       "      <td>202204.0</td>\n",
       "      <td>63748.0</td>\n",
       "      <td>29334.0</td>\n",
       "      <td>102756.0</td>\n",
       "      <td>163856.0</td>\n",
       "      <td>67781.0</td>\n",
       "      <td>18771860.0</td>\n",
       "    </tr>\n",
       "    <tr>\n",
       "      <th>2</th>\n",
       "      <td>202203.0</td>\n",
       "      <td>73055.0</td>\n",
       "      <td>32824.0</td>\n",
       "      <td>219762.0</td>\n",
       "      <td>170561.0</td>\n",
       "      <td>442537.0</td>\n",
       "      <td>21083510.0</td>\n",
       "    </tr>\n",
       "    <tr>\n",
       "      <th>3</th>\n",
       "      <td>202202.0</td>\n",
       "      <td>43922.0</td>\n",
       "      <td>31359.0</td>\n",
       "      <td>162060.0</td>\n",
       "      <td>114912.0</td>\n",
       "      <td>105170.0</td>\n",
       "      <td>20614948.0</td>\n",
       "    </tr>\n",
       "    <tr>\n",
       "      <th>4</th>\n",
       "      <td>202201.0</td>\n",
       "      <td>10203.0</td>\n",
       "      <td>8067.0</td>\n",
       "      <td>33588.0</td>\n",
       "      <td>28214.0</td>\n",
       "      <td>14112.0</td>\n",
       "      <td>7682048.0</td>\n",
       "    </tr>\n",
       "    <tr>\n",
       "      <th>...</th>\n",
       "      <td>...</td>\n",
       "      <td>...</td>\n",
       "      <td>...</td>\n",
       "      <td>...</td>\n",
       "      <td>...</td>\n",
       "      <td>...</td>\n",
       "      <td>...</td>\n",
       "    </tr>\n",
       "    <tr>\n",
       "      <th>1837</th>\n",
       "      <td>201401.0</td>\n",
       "      <td>149.0</td>\n",
       "      <td>237.0</td>\n",
       "      <td>1758.0</td>\n",
       "      <td>765.0</td>\n",
       "      <td>2712.0</td>\n",
       "      <td>118325.0</td>\n",
       "    </tr>\n",
       "    <tr>\n",
       "      <th>1838</th>\n",
       "      <td>201311.0</td>\n",
       "      <td>101.0</td>\n",
       "      <td>345.0</td>\n",
       "      <td>1306.0</td>\n",
       "      <td>642.0</td>\n",
       "      <td>940.0</td>\n",
       "      <td>130951.0</td>\n",
       "    </tr>\n",
       "    <tr>\n",
       "      <th>1839</th>\n",
       "      <td>201310.0</td>\n",
       "      <td>123.0</td>\n",
       "      <td>424.0</td>\n",
       "      <td>1871.0</td>\n",
       "      <td>1320.0</td>\n",
       "      <td>3124.0</td>\n",
       "      <td>337986.0</td>\n",
       "    </tr>\n",
       "    <tr>\n",
       "      <th>1840</th>\n",
       "      <td>201309.0</td>\n",
       "      <td>75.0</td>\n",
       "      <td>160.0</td>\n",
       "      <td>1010.0</td>\n",
       "      <td>588.0</td>\n",
       "      <td>2166.0</td>\n",
       "      <td>97730.0</td>\n",
       "    </tr>\n",
       "    <tr>\n",
       "      <th>1841</th>\n",
       "      <td>201308.0</td>\n",
       "      <td>1166.0</td>\n",
       "      <td>6992.0</td>\n",
       "      <td>16548.0</td>\n",
       "      <td>7253.0</td>\n",
       "      <td>38626.0</td>\n",
       "      <td>1012810.0</td>\n",
       "    </tr>\n",
       "  </tbody>\n",
       "</table>\n",
       "<p>1842 rows × 7 columns</p>\n",
       "</div>"
      ],
      "text/plain": [
       "          Date  favioriate    share   comment      save       Dan      Bofang\n",
       "0     202205.0      9840.0   6147.0   51568.0   27478.0   26664.0   3977392.0\n",
       "1     202204.0     63748.0  29334.0  102756.0  163856.0   67781.0  18771860.0\n",
       "2     202203.0     73055.0  32824.0  219762.0  170561.0  442537.0  21083510.0\n",
       "3     202202.0     43922.0  31359.0  162060.0  114912.0  105170.0  20614948.0\n",
       "4     202201.0     10203.0   8067.0   33588.0   28214.0   14112.0   7682048.0\n",
       "...        ...         ...      ...       ...       ...       ...         ...\n",
       "1837  201401.0       149.0    237.0    1758.0     765.0    2712.0    118325.0\n",
       "1838  201311.0       101.0    345.0    1306.0     642.0     940.0    130951.0\n",
       "1839  201310.0       123.0    424.0    1871.0    1320.0    3124.0    337986.0\n",
       "1840  201309.0        75.0    160.0    1010.0     588.0    2166.0     97730.0\n",
       "1841  201308.0      1166.0   6992.0   16548.0    7253.0   38626.0   1012810.0\n",
       "\n",
       "[1842 rows x 7 columns]"
      ]
     },
     "execution_count": 5,
     "metadata": {},
     "output_type": "execute_result"
    }
   ],
   "source": [
    "data "
   ]
  },
  {
   "cell_type": "code",
   "execution_count": 17,
   "id": "e7c1a2ee-e634-44f3-b20a-43a72c5c3e9f",
   "metadata": {},
   "outputs": [],
   "source": [
    "data = data.dropna() "
   ]
  },
  {
   "cell_type": "code",
   "execution_count": 19,
   "id": "b271443c-b8e7-4f77-9308-5cdd700ee5bf",
   "metadata": {},
   "outputs": [
    {
     "data": {
      "text/html": [
       "<div>\n",
       "<style scoped>\n",
       "    .dataframe tbody tr th:only-of-type {\n",
       "        vertical-align: middle;\n",
       "    }\n",
       "\n",
       "    .dataframe tbody tr th {\n",
       "        vertical-align: top;\n",
       "    }\n",
       "\n",
       "    .dataframe thead th {\n",
       "        text-align: right;\n",
       "    }\n",
       "</style>\n",
       "<table border=\"1\" class=\"dataframe\">\n",
       "  <thead>\n",
       "    <tr style=\"text-align: right;\">\n",
       "      <th></th>\n",
       "      <th>Date</th>\n",
       "      <th>favioriate</th>\n",
       "      <th>share</th>\n",
       "      <th>comment</th>\n",
       "      <th>save</th>\n",
       "      <th>Dan</th>\n",
       "      <th>Bofang</th>\n",
       "    </tr>\n",
       "  </thead>\n",
       "  <tbody>\n",
       "    <tr>\n",
       "      <th>0</th>\n",
       "      <td>202205.0</td>\n",
       "      <td>9840.0</td>\n",
       "      <td>6147.0</td>\n",
       "      <td>51568.0</td>\n",
       "      <td>27478.0</td>\n",
       "      <td>26664.0</td>\n",
       "      <td>3977392.0</td>\n",
       "    </tr>\n",
       "    <tr>\n",
       "      <th>1</th>\n",
       "      <td>202204.0</td>\n",
       "      <td>63748.0</td>\n",
       "      <td>29334.0</td>\n",
       "      <td>102756.0</td>\n",
       "      <td>163856.0</td>\n",
       "      <td>67781.0</td>\n",
       "      <td>18771860.0</td>\n",
       "    </tr>\n",
       "    <tr>\n",
       "      <th>2</th>\n",
       "      <td>202203.0</td>\n",
       "      <td>73055.0</td>\n",
       "      <td>32824.0</td>\n",
       "      <td>219762.0</td>\n",
       "      <td>170561.0</td>\n",
       "      <td>442537.0</td>\n",
       "      <td>21083510.0</td>\n",
       "    </tr>\n",
       "    <tr>\n",
       "      <th>3</th>\n",
       "      <td>202202.0</td>\n",
       "      <td>43922.0</td>\n",
       "      <td>31359.0</td>\n",
       "      <td>162060.0</td>\n",
       "      <td>114912.0</td>\n",
       "      <td>105170.0</td>\n",
       "      <td>20614948.0</td>\n",
       "    </tr>\n",
       "    <tr>\n",
       "      <th>4</th>\n",
       "      <td>202201.0</td>\n",
       "      <td>10203.0</td>\n",
       "      <td>8067.0</td>\n",
       "      <td>33588.0</td>\n",
       "      <td>28214.0</td>\n",
       "      <td>14112.0</td>\n",
       "      <td>7682048.0</td>\n",
       "    </tr>\n",
       "    <tr>\n",
       "      <th>...</th>\n",
       "      <td>...</td>\n",
       "      <td>...</td>\n",
       "      <td>...</td>\n",
       "      <td>...</td>\n",
       "      <td>...</td>\n",
       "      <td>...</td>\n",
       "      <td>...</td>\n",
       "    </tr>\n",
       "    <tr>\n",
       "      <th>1837</th>\n",
       "      <td>201401.0</td>\n",
       "      <td>149.0</td>\n",
       "      <td>237.0</td>\n",
       "      <td>1758.0</td>\n",
       "      <td>765.0</td>\n",
       "      <td>2712.0</td>\n",
       "      <td>118325.0</td>\n",
       "    </tr>\n",
       "    <tr>\n",
       "      <th>1838</th>\n",
       "      <td>201311.0</td>\n",
       "      <td>101.0</td>\n",
       "      <td>345.0</td>\n",
       "      <td>1306.0</td>\n",
       "      <td>642.0</td>\n",
       "      <td>940.0</td>\n",
       "      <td>130951.0</td>\n",
       "    </tr>\n",
       "    <tr>\n",
       "      <th>1839</th>\n",
       "      <td>201310.0</td>\n",
       "      <td>123.0</td>\n",
       "      <td>424.0</td>\n",
       "      <td>1871.0</td>\n",
       "      <td>1320.0</td>\n",
       "      <td>3124.0</td>\n",
       "      <td>337986.0</td>\n",
       "    </tr>\n",
       "    <tr>\n",
       "      <th>1840</th>\n",
       "      <td>201309.0</td>\n",
       "      <td>75.0</td>\n",
       "      <td>160.0</td>\n",
       "      <td>1010.0</td>\n",
       "      <td>588.0</td>\n",
       "      <td>2166.0</td>\n",
       "      <td>97730.0</td>\n",
       "    </tr>\n",
       "    <tr>\n",
       "      <th>1841</th>\n",
       "      <td>201308.0</td>\n",
       "      <td>1166.0</td>\n",
       "      <td>6992.0</td>\n",
       "      <td>16548.0</td>\n",
       "      <td>7253.0</td>\n",
       "      <td>38626.0</td>\n",
       "      <td>1012810.0</td>\n",
       "    </tr>\n",
       "  </tbody>\n",
       "</table>\n",
       "<p>1835 rows × 7 columns</p>\n",
       "</div>"
      ],
      "text/plain": [
       "          Date  favioriate    share   comment      save       Dan      Bofang\n",
       "0     202205.0      9840.0   6147.0   51568.0   27478.0   26664.0   3977392.0\n",
       "1     202204.0     63748.0  29334.0  102756.0  163856.0   67781.0  18771860.0\n",
       "2     202203.0     73055.0  32824.0  219762.0  170561.0  442537.0  21083510.0\n",
       "3     202202.0     43922.0  31359.0  162060.0  114912.0  105170.0  20614948.0\n",
       "4     202201.0     10203.0   8067.0   33588.0   28214.0   14112.0   7682048.0\n",
       "...        ...         ...      ...       ...       ...       ...         ...\n",
       "1837  201401.0       149.0    237.0    1758.0     765.0    2712.0    118325.0\n",
       "1838  201311.0       101.0    345.0    1306.0     642.0     940.0    130951.0\n",
       "1839  201310.0       123.0    424.0    1871.0    1320.0    3124.0    337986.0\n",
       "1840  201309.0        75.0    160.0    1010.0     588.0    2166.0     97730.0\n",
       "1841  201308.0      1166.0   6992.0   16548.0    7253.0   38626.0   1012810.0\n",
       "\n",
       "[1835 rows x 7 columns]"
      ]
     },
     "execution_count": 19,
     "metadata": {},
     "output_type": "execute_result"
    }
   ],
   "source": [
    "data"
   ]
  },
  {
   "cell_type": "code",
   "execution_count": 20,
   "id": "b318d042-7535-4034-a36b-de5aa55c4a3b",
   "metadata": {},
   "outputs": [],
   "source": [
    "x = data[['favioriate','share','comment','save','Dan']]"
   ]
  },
  {
   "cell_type": "code",
   "execution_count": 21,
   "id": "9287687b-e0fe-447d-97a8-5f8b263a58ff",
   "metadata": {},
   "outputs": [],
   "source": [
    "y = data['Bofang']"
   ]
  },
  {
   "cell_type": "code",
   "execution_count": 22,
   "id": "3e63b4f6-d3df-4a2c-89e4-94336386fa96",
   "metadata": {},
   "outputs": [],
   "source": [
    "X_train, X_test, y_train, y_test = train_test_split(x,y,test_size= 0.2, random_state=22) #训练集80%，测试集20% "
   ]
  },
  {
   "cell_type": "code",
   "execution_count": 23,
   "id": "9a52674e-3b82-4b25-85b8-ea4529adde6c",
   "metadata": {
    "tags": []
   },
   "outputs": [
    {
     "data": {
      "text/plain": [
       "LinearRegression()"
      ]
     },
     "execution_count": 23,
     "metadata": {},
     "output_type": "execute_result"
    }
   ],
   "source": [
    "model=LinearRegression() \n",
    "model.fit(X_train,y_train) "
   ]
  },
  {
   "cell_type": "code",
   "execution_count": 24,
   "id": "e3abee9d-cdc6-49f2-ae83-837657dc9a1e",
   "metadata": {},
   "outputs": [],
   "source": [
    "predict_value = model.predict(X_test) #predicing the value based on the testing dataset"
   ]
  },
  {
   "cell_type": "code",
   "execution_count": 25,
   "id": "fa8f7fd6-6cb2-4ab7-a3c1-a24259e1036c",
   "metadata": {},
   "outputs": [],
   "source": [
    "error = predict_value - y_test\n",
    "rmse = (error**2).mean()**0.5 #root mean square error\n",
    "mae = abs(error).mean() # absolute error"
   ]
  },
  {
   "cell_type": "code",
   "execution_count": 26,
   "id": "8d8d08ea-91d9-4fb6-9aaa-2bf29e3a1f92",
   "metadata": {},
   "outputs": [
    {
     "data": {
      "text/plain": [
       "(367, 5)"
      ]
     },
     "execution_count": 26,
     "metadata": {},
     "output_type": "execute_result"
    }
   ],
   "source": [
    "X_test.shape"
   ]
  },
  {
   "cell_type": "code",
   "execution_count": 27,
   "id": "b2a5050c-7c99-4543-bcdc-a7167c13f46d",
   "metadata": {},
   "outputs": [
    {
     "data": {
      "text/plain": [
       "4786557.4269154975"
      ]
     },
     "execution_count": 27,
     "metadata": {},
     "output_type": "execute_result"
    }
   ],
   "source": [
    "rmse"
   ]
  },
  {
   "cell_type": "code",
   "execution_count": 28,
   "id": "3027ef4c-3907-48e2-b414-91f3b4b8a87f",
   "metadata": {},
   "outputs": [
    {
     "data": {
      "text/plain": [
       "3514806.7231004257"
      ]
     },
     "execution_count": 28,
     "metadata": {},
     "output_type": "execute_result"
    }
   ],
   "source": [
    "mae"
   ]
  },
  {
   "cell_type": "code",
   "execution_count": 29,
   "id": "6451b696-e7e5-477b-b9be-fc2101c8c51d",
   "metadata": {},
   "outputs": [
    {
     "data": {
      "text/plain": [
       "[<matplotlib.lines.Line2D at 0x16084e39090>]"
      ]
     },
     "execution_count": 29,
     "metadata": {},
     "output_type": "execute_result"
    },
    {
     "data": {
      "image/png": "[encoded data removed]",
      "text/plain": [
       "<Figure size 432x288 with 1 Axes>"
      ]
     },
     "metadata": {
      "needs_background": "light"
     },
     "output_type": "display_data"
    }
   ],
   "source": [
    "plt.plot(np.arange(1,368),y_test) #real value"
   ]
  },
  {
   "cell_type": "code",
   "execution_count": 30,
   "id": "a4c28ea4-b14d-4396-a2ed-8a0fd5642dd6",
   "metadata": {},
   "outputs": [
    {
     "data": {
      "text/plain": [
       "[<matplotlib.lines.Line2D at 0x160892951e0>]"
      ]
     },
     "execution_count": 30,
     "metadata": {},
     "output_type": "execute_result"
    },
    {
     "data": {
      "image/png": "[encoded data removed]",
      "text/plain": [
       "<Figure size 432x288 with 1 Axes>"
      ]
     },
     "metadata": {
      "needs_background": "light"
     },
     "output_type": "display_data"
    }
   ],
   "source": [
    "plt.plot(np.arange(1,368),predict_value,color='red') # predicted value"
   ]
  },
  {
   "cell_type": "code",
   "execution_count": 31,
   "id": "2beb3007-8d16-4490-9a95-f9e319c2e776",
   "metadata": {},
   "outputs": [],
   "source": [
    "random_forest_model = RandomForestRegressor()"
   ]
  },
  {
   "cell_type": "code",
   "execution_count": 32,
   "id": "7135c023-253d-4cfa-a5b0-ebd9a13d7648",
   "metadata": {},
   "outputs": [
    {
     "data": {
      "text/plain": [
       "RandomForestRegressor()"
      ]
     },
     "execution_count": 32,
     "metadata": {},
     "output_type": "execute_result"
    }
   ],
   "source": [
    "random_forest_model.fit(X_train,y_train)"
   ]
  },
  {
   "cell_type": "code",
   "execution_count": 33,
   "id": "2a1ad4b3-15fc-4892-b014-c2b68d967b29",
   "metadata": {},
   "outputs": [],
   "source": [
    "predict_value = random_forest_model.predict(X_test)"
   ]
  },
  {
   "cell_type": "code",
   "execution_count": 34,
   "id": "25592a9e-e723-4156-96f0-be62043c112f",
   "metadata": {},
   "outputs": [],
   "source": [
    "error = predict_value - y_test\n",
    "rmse = (error**2).mean()**0.5 #root mean square error\n",
    "mae = abs(error).mean() # absolute error"
   ]
  },
  {
   "cell_type": "code",
   "execution_count": 41,
   "id": "565d9615-f549-4ba8-8d56-dba352a51fed",
   "metadata": {},
   "outputs": [
    {
     "data": {
      "text/plain": [
       "2988311.7447643084"
      ]
     },
     "execution_count": 41,
     "metadata": {},
     "output_type": "execute_result"
    }
   ],
   "source": [
    "rmse"
   ]
  },
  {
   "cell_type": "code",
   "execution_count": 38,
   "id": "e4bd13b9-989e-4a3a-a012-d5897a793a60",
   "metadata": {},
   "outputs": [
    {
     "data": {
      "text/plain": [
       "1506593.0125885562"
      ]
     },
     "execution_count": 38,
     "metadata": {},
     "output_type": "execute_result"
    }
   ],
   "source": [
    "mae"
   ]
  },
  {
   "cell_type": "code",
   "execution_count": 37,
   "id": "ab413fbc-475e-45fa-a983-270080ec1220",
   "metadata": {},
   "outputs": [
    {
     "data": {
      "text/plain": [
       "(367,)"
      ]
     },
     "execution_count": 37,
     "metadata": {},
     "output_type": "execute_result"
    }
   ],
   "source": [
    "y_test.shape"
   ]
  },
  {
   "cell_type": "code",
   "execution_count": 42,
   "id": "3621e685-5091-480e-af20-8fe4a4831635",
   "metadata": {},
   "outputs": [
    {
     "data": {
      "text/plain": [
       "[<matplotlib.lines.Line2D at 0x1608930f0a0>]"
      ]
     },
     "execution_count": 42,
     "metadata": {},
     "output_type": "execute_result"
    },
    {
     "data": {
      "image/png": "[encoded data removed]",
      "text/plain": [
       "<Figure size 432x288 with 1 Axes>"
      ]
     },
     "metadata": {
      "needs_background": "light"
     },
     "output_type": "display_data"
    }
   ],
   "source": [
    "plt.plot(np.arange(1,368),y_test)  # 20% testing dataset, 368"
   ]
  },
  {
   "cell_type": "code",
   "execution_count": 43,
   "id": "07550b18-ac77-4428-a42f-6cb402a6b88f",
   "metadata": {},
   "outputs": [
    {
     "data": {
      "text/plain": [
       "[<matplotlib.lines.Line2D at 0x1608937a410>]"
      ]
     },
     "execution_count": 43,
     "metadata": {},
     "output_type": "execute_result"
    },
    {
     "data": {
      "image/png": "[encoded data removed]",
      "text/plain": [
       "<Figure size 432x288 with 1 Axes>"
      ]
     },
     "metadata": {
      "needs_background": "light"
     },
     "output_type": "display_data"
    }
   ],
   "source": [
    "plt.plot(np.arange(1,368),predict_value,color='red')"
   ]
  },
  {
   "cell_type": "code",
   "execution_count": null,
   "id": "1c52b114-2086-4beb-891a-dedfeb031bdf",
   "metadata": {},
   "outputs": [],
   "source": []
  },
  {
   "cell_type": "code",
   "execution_count": null,
   "id": "724172de-11ce-4bd8-b533-d638b0c58b1f",
   "metadata": {},
   "outputs": [],
   "source": []
  }
 ],
 "metadata": {
  "interpreter": {
   "hash": "bf34de8c18f77f2559e488491effe5d4f801d27658dc0c4e100ad12ce026b10c"
  },
  "kernelspec": {
   "display_name": "Python 3.10.1 64-bit",
   "language": "python",
   "name": "python3"
  },
  "language_info": {
   "codemirror_mode": {
    "name": "ipython",
    "version": 3
   },
   "file_extension": ".py",
   "mimetype": "text/x-python",
   "name": "python",
   "nbconvert_exporter": "python",
   "pygments_lexer": "ipython3",
   "version": "3.10.1"
  }
 },
 "nbformat": 4,
 "nbformat_minor": 5
}
